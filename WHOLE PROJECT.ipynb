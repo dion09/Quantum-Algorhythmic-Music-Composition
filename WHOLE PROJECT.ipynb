{
 "cells": [
  {
   "cell_type": "code",
   "execution_count": null,
   "id": "9f41d0c8",
   "metadata": {},
   "outputs": [],
   "source": [
    "# https://we.tl/t-vfSPdcGeAa"
   ]
  },
  {
   "cell_type": "code",
   "execution_count": 1,
   "id": "360100a8",
   "metadata": {},
   "outputs": [],
   "source": [
    "gate_colours = {\n",
    "    \"displaycolor\": {\n",
    "        \"x\": [ # gate name\n",
    "            \"#3E065F\", # box color (red)\n",
    "            \"#FFFFFF\" # box text color (white)\n",
    "        ],\n",
    "        \"h\": [ # gate name\n",
    "            \"#8B0000\", # box color (maroon)\n",
    "            \"#FFFFFF\" # box text color (white)\n",
    "        ],\n",
    "        \"cx\": [ # gate name\n",
    "            \"#700B97\", # box color (red)\n",
    "            \"#FFFFFF\" # box text color (white)\n",
    "            \n",
    "        ],\n",
    "        \"ccx\": [ # gate name\n",
    "            \"#700B97\", # box color (red)\n",
    "            \"#FFFFFF\" # box text color (white)\n",
    "        ],\n",
    "        \"i\": [ # gate name\n",
    "            \"#700B97\", # box color (red)\n",
    "            \"#FFFFFF\" # box text color (white)\n",
    "        ],\n",
    "        \"Oracle\": [ # gate name\n",
    "            \"#951556\", # box color (red)\n",
    "            \"#FFFFFF\" # box text color (white)\n",
    "        ],\n",
    "        \"Diffuser\": [ # gate name\n",
    "            \"#411E8F\", # box color (red)\n",
    "            \"#FFFFFF\" # box text color (white)\n",
    "        ],\n",
    "    },\n",
    "}\n"
   ]
  },
  {
   "cell_type": "code",
   "execution_count": null,
   "id": "64b7ddb5",
   "metadata": {},
   "outputs": [],
   "source": []
  },
  {
   "cell_type": "code",
   "execution_count": 2,
   "id": "0f8d4a1a",
   "metadata": {},
   "outputs": [
    {
     "name": "stdout",
     "output_type": "stream",
     "text": [
      "192.168.0.8\n"
     ]
    }
   ],
   "source": [
    "from qiskit import *\n",
    "from qiskit.primitives import Sampler\n",
    "from qiskit.circuit.library import MCXGate\n",
    "\n",
    "\n",
    "from pythonosc import udp_client, dispatcher\n",
    "import numpy as np\n",
    "import socket\n",
    "import random\n",
    "import time\n",
    "\n",
    "# Rule 1: if E =⇒ F ∨ Ds\n",
    "# Rule 2: if Ds =⇒ E ∨ Cs ∨ Fs ∨  Gs\n",
    "# Rule 3: if Cs =⇒ G ∨ Fs ∨ Ds \n",
    "# Rule 4: if G =⇒ F ∨ Cs ∨ D\n",
    "# Rule 5: if D =⇒F ∨ G ∨ Gs ∨ B\n",
    "# Rule 6: if F =⇒ E ∨ G ∨ D ∨ C\n",
    "# Rule 7: if C =⇒ F ∨ Fs, B ∨ A\n",
    "# Rule 8: if Fs =⇒ Cs ∨ Ds ∨ C ∨ A\n",
    "# Rule 9: if A =⇒ Fs ∨ Gs ∨ C ∨ As\n",
    "# Rule 10:if Gs =⇒ Ds ∨ D ∨ B ∨ A\n",
    "# Rule 11:if B =⇒ Gs ∨ D ∨ C ∨ As\n",
    "# Rule 12:if As =⇒ B ∨ A\n",
    "# nphase = 0.9\n",
    "# address = '10.110.112.206'  \n",
    "# Αυτοματη ανάκτηση IP\n",
    "address = socket.gethostbyname(socket.gethostname())\n",
    "port = 4560\n",
    "# client = udp_client.SimpleUDPClient(address, port)\n",
    "print(address)\n",
    "\n"
   ]
  },
  {
   "cell_type": "code",
   "execution_count": 3,
   "id": "f26f0a50",
   "metadata": {},
   "outputs": [],
   "source": [
    "\n"
   ]
  },
  {
   "cell_type": "code",
   "execution_count": 3,
   "id": "680d6063",
   "metadata": {},
   "outputs": [
    {
     "name": "stdout",
     "output_type": "stream",
     "text": [
      "The Trasition Matrix Is:\n",
      " \n",
      "['E', 'F', 'G', 'Cs', 'Fs', 'Ds', 'Gs', 'D', 'B', 'C', 'A', 'As']\n",
      "E [0, 0.5, 0, 0, 0, 0.5, 0, 0, 0, 0, 0, 0]\n",
      "Ds [0.25, 0, 0, 0.25, 0.25, 0, 0.25, 0, 0, 0, 0, 0]\n",
      "Cs [0, 0, 0.3333333333333333, 0, 0.3333333333333333, 0.3333333333333333, 0, 0, 0, 0, 0, 0]\n",
      "G [0, 0.3333333333333333, 0, 0.3333333333333333, 0, 0, 0, 0.3333333333333333, 0, 0, 0, 0]\n",
      "D [0, 0.25, 0.25, 0, 0, 0, 0.25, 0, 0.25, 0, 0, 0]\n",
      "F [0.25, 0, 0.25, 0, 0, 0, 0, 0.25, 0, 0.25, 0, 0]\n",
      "C [0, 0.25, 0, 0, 0.25, 0, 0, 0, 0.25, 0, 0.25, 0]\n",
      "Fs [0, 0, 0, 0.25, 0, 0.25, 0, 0, 0, 0.25, 0.25, 0]\n",
      "A [0, 0, 0, 0, 0.25, 0, 0.25, 0, 0, 0.25, 0, 0.25]\n",
      "Gs [0, 0, 0, 0, 0, 0.25, 0, 0.25, 0.25, 0, 0.25, 0]\n",
      "B [0, 0, 0, 0, 0, 0, 0.25, 0.25, 0, 0.25, 0, 0.25]\n",
      "As [0, 0, 0, 0, 0, 0, 0, 0, 0.5, 0, 0.5, 0]\n"
     ]
    }
   ],
   "source": [
    "import numpy as np\n",
    "import random\n",
    "#Markov Chains\n",
    "V =[]\n",
    "trasition_matrix={\n",
    "    'E':{'E':0,'F':1/2,'G':0,'Cs':0,'Fs':0,'Ds':1/2,'Gs':0,'D':0,'B':0,'C':0,'A':0,'As':0},\n",
    "    'Ds':{'E':1/4,'F':0,'G':0,'Cs':1/4,'Fs':1/4,'Ds':0,'Gs':1/4,'D':0,'B':0,'C':0,'A':0,'As':0},\n",
    "    'Cs':{'E':0,'F':0,'G':1/3,'Cs':0,'Fs':1/3,'Ds':1/3,'Gs':0,'D':0,'B':0,'C':0,'A':0,'As':0},\n",
    "    'G':{'E':0,'F':1/3,'G':0,'Cs':1/3,'Fs':0,'Ds':0,'Gs':0,'D':1/3,'B':0,'C':0,'A':0,'As':0},\n",
    "    'D':{'E':0,'F':1/4,'G':1/4,'Cs':0,'Fs':0,'Ds':0,'Gs':1/4,'D':0,'B':1/4,'C':0,'A':0,'As':0},\n",
    "    'F':{'E':1/4,'F':0,'G':1/4,'Cs':0,'Fs':0,'Ds':0,'Gs':0,'D':1/4,'B':0,'C':1/4,'A':0,'As':0},\n",
    "    'C':{'E':0,'F':1/4,'G':0,'Cs':0,'Fs':1/4,'Ds':0,'Gs':0,'D':0,'B':1/4,'C':0,'A':1/4,'As':0},\n",
    "    'Fs':{'E':0,'F':0,'G':0,'Cs':1/4,'Fs':0,'Ds':1/4,'Gs':0,'D':0,'B':0,'C':1/4,'A':1/4,'As':0},\n",
    "    'A':{'E':0,'F':0,'G':0,'Cs':0,'Fs':1/4,'Ds':0,'Gs':1/4,'D':0,'B':0,'C':1/4,'A':0,'As':1/4},\n",
    "    'Gs':{'E':0,'F':0,'G':0,'Cs':0,'Fs':0,'Ds':1/4,'Gs':0,'D':1/4,'B':1/4,'C':0,'A':1/4,'As':0},\n",
    "    'B':{'E':0,'F':0,'G':0,'Cs':0,'Fs':0,'Ds':0,'Gs':1/4,'D':1/4,'B':0,'C':1/4,'A':0,'As':1/4},\n",
    "    'As':{'E':0,'F':0,'G':0,'Cs':0,'Fs':0,'Ds':0,'Gs':0,'D':0,'B':1/2,'C':0,'A':1/2,'As':0},\n",
    "    }\n",
    "values_1 = list(trasition_matrix.keys())\n",
    "\n",
    "for i in values_1:\n",
    "    values_2 =list( trasition_matrix[i].keys())\n",
    "\n",
    "print(\"The Trasition Matrix Is:\\n \")    \n",
    "\n",
    "print(f\"{values_2}\")\n",
    "\n",
    "a = []\n",
    "for i , h in enumerate (trasition_matrix):\n",
    "    a.append(list(trasition_matrix[h].values()))\n",
    "    \n",
    "\n",
    "    print(f'{values_1[i]}',a[i])\n"
   ]
  },
  {
   "cell_type": "code",
   "execution_count": 4,
   "id": "64ec7ddf",
   "metadata": {},
   "outputs": [],
   "source": [
    "def Markov_Chain(trasition_matrix):\n",
    "    sequence = []\n",
    "    firsts_notes = list(trasition_matrix.keys())\n",
    "    initial_state = 'E'  \n",
    "    current_note = initial_state\n",
    "    sequence.append(current_note)\n",
    "    \n",
    "    while len(sequence) - 1 != len(firsts_notes) - 1:  \n",
    "\n",
    "        target_notes = list(trasition_matrix[current_note].keys())  \n",
    "        propab = list(trasition_matrix[current_note].values())  \n",
    "        print(target_notes)\n",
    "        print(propab)\n",
    "\n",
    "        next_note = np.random.choice(target_notes, p=propab)\n",
    "\n",
    "        print(\"Current_Note --> Next_Note\")\n",
    "\n",
    "       \n",
    "        print(f'{current_note}-->{next_note}\\n')\n",
    "        current_note = next_note\n",
    "\n",
    "        sequence.append(current_note)\n",
    "\n",
    "\n",
    "    return (sequence)\n",
    "\n",
    "\n",
    "\n",
    "\n",
    "\n"
   ]
  },
  {
   "cell_type": "code",
   "execution_count": 5,
   "id": "638b1414",
   "metadata": {},
   "outputs": [
    {
     "name": "stdout",
     "output_type": "stream",
     "text": [
      "['E', 'F', 'G', 'Cs', 'Fs', 'Ds', 'Gs', 'D', 'B', 'C', 'A', 'As']\n",
      "[0, 0.5, 0, 0, 0, 0.5, 0, 0, 0, 0, 0, 0]\n",
      "Current_Note --> Next_Note\n",
      "E-->F\n",
      "\n",
      "['E', 'F', 'G', 'Cs', 'Fs', 'Ds', 'Gs', 'D', 'B', 'C', 'A', 'As']\n",
      "[0.25, 0, 0.25, 0, 0, 0, 0, 0.25, 0, 0.25, 0, 0]\n",
      "Current_Note --> Next_Note\n",
      "F-->E\n",
      "\n",
      "['E', 'F', 'G', 'Cs', 'Fs', 'Ds', 'Gs', 'D', 'B', 'C', 'A', 'As']\n",
      "[0, 0.5, 0, 0, 0, 0.5, 0, 0, 0, 0, 0, 0]\n",
      "Current_Note --> Next_Note\n",
      "E-->Ds\n",
      "\n",
      "['E', 'F', 'G', 'Cs', 'Fs', 'Ds', 'Gs', 'D', 'B', 'C', 'A', 'As']\n",
      "[0.25, 0, 0, 0.25, 0.25, 0, 0.25, 0, 0, 0, 0, 0]\n",
      "Current_Note --> Next_Note\n",
      "Ds-->Gs\n",
      "\n",
      "['E', 'F', 'G', 'Cs', 'Fs', 'Ds', 'Gs', 'D', 'B', 'C', 'A', 'As']\n",
      "[0, 0, 0, 0, 0, 0.25, 0, 0.25, 0.25, 0, 0.25, 0]\n",
      "Current_Note --> Next_Note\n",
      "Gs-->Ds\n",
      "\n",
      "['E', 'F', 'G', 'Cs', 'Fs', 'Ds', 'Gs', 'D', 'B', 'C', 'A', 'As']\n",
      "[0.25, 0, 0, 0.25, 0.25, 0, 0.25, 0, 0, 0, 0, 0]\n",
      "Current_Note --> Next_Note\n",
      "Ds-->Fs\n",
      "\n",
      "['E', 'F', 'G', 'Cs', 'Fs', 'Ds', 'Gs', 'D', 'B', 'C', 'A', 'As']\n",
      "[0, 0, 0, 0.25, 0, 0.25, 0, 0, 0, 0.25, 0.25, 0]\n",
      "Current_Note --> Next_Note\n",
      "Fs-->Ds\n",
      "\n",
      "['E', 'F', 'G', 'Cs', 'Fs', 'Ds', 'Gs', 'D', 'B', 'C', 'A', 'As']\n",
      "[0.25, 0, 0, 0.25, 0.25, 0, 0.25, 0, 0, 0, 0, 0]\n",
      "Current_Note --> Next_Note\n",
      "Ds-->Cs\n",
      "\n",
      "['E', 'F', 'G', 'Cs', 'Fs', 'Ds', 'Gs', 'D', 'B', 'C', 'A', 'As']\n",
      "[0, 0, 0.3333333333333333, 0, 0.3333333333333333, 0.3333333333333333, 0, 0, 0, 0, 0, 0]\n",
      "Current_Note --> Next_Note\n",
      "Cs-->Fs\n",
      "\n",
      "['E', 'F', 'G', 'Cs', 'Fs', 'Ds', 'Gs', 'D', 'B', 'C', 'A', 'As']\n",
      "[0, 0, 0, 0.25, 0, 0.25, 0, 0, 0, 0.25, 0.25, 0]\n",
      "Current_Note --> Next_Note\n",
      "Fs-->C\n",
      "\n",
      "['E', 'F', 'G', 'Cs', 'Fs', 'Ds', 'Gs', 'D', 'B', 'C', 'A', 'As']\n",
      "[0, 0.25, 0, 0, 0.25, 0, 0, 0, 0.25, 0, 0.25, 0]\n",
      "Current_Note --> Next_Note\n",
      "C-->F\n",
      "\n",
      "['E', 'F', 'G', 'Cs', 'Fs', 'Ds', 'Gs', 'D', 'B', 'C', 'A', 'As']\n",
      "[0, 0.5, 0, 0, 0, 0.5, 0, 0, 0, 0, 0, 0]\n",
      "Current_Note --> Next_Note\n",
      "E-->Ds\n",
      "\n",
      "['E', 'F', 'G', 'Cs', 'Fs', 'Ds', 'Gs', 'D', 'B', 'C', 'A', 'As']\n",
      "[0.25, 0, 0, 0.25, 0.25, 0, 0.25, 0, 0, 0, 0, 0]\n",
      "Current_Note --> Next_Note\n",
      "Ds-->E\n",
      "\n",
      "['E', 'F', 'G', 'Cs', 'Fs', 'Ds', 'Gs', 'D', 'B', 'C', 'A', 'As']\n",
      "[0, 0.5, 0, 0, 0, 0.5, 0, 0, 0, 0, 0, 0]\n",
      "Current_Note --> Next_Note\n",
      "E-->F\n",
      "\n",
      "['E', 'F', 'G', 'Cs', 'Fs', 'Ds', 'Gs', 'D', 'B', 'C', 'A', 'As']\n",
      "[0.25, 0, 0.25, 0, 0, 0, 0, 0.25, 0, 0.25, 0, 0]\n",
      "Current_Note --> Next_Note\n",
      "F-->E\n",
      "\n",
      "['E', 'F', 'G', 'Cs', 'Fs', 'Ds', 'Gs', 'D', 'B', 'C', 'A', 'As']\n",
      "[0, 0.5, 0, 0, 0, 0.5, 0, 0, 0, 0, 0, 0]\n",
      "Current_Note --> Next_Note\n",
      "E-->F\n",
      "\n",
      "['E', 'F', 'G', 'Cs', 'Fs', 'Ds', 'Gs', 'D', 'B', 'C', 'A', 'As']\n",
      "[0.25, 0, 0.25, 0, 0, 0, 0, 0.25, 0, 0.25, 0, 0]\n",
      "Current_Note --> Next_Note\n",
      "F-->E\n",
      "\n",
      "['E', 'F', 'G', 'Cs', 'Fs', 'Ds', 'Gs', 'D', 'B', 'C', 'A', 'As']\n",
      "[0, 0.5, 0, 0, 0, 0.5, 0, 0, 0, 0, 0, 0]\n",
      "Current_Note --> Next_Note\n",
      "E-->F\n",
      "\n",
      "['E', 'F', 'G', 'Cs', 'Fs', 'Ds', 'Gs', 'D', 'B', 'C', 'A', 'As']\n",
      "[0.25, 0, 0.25, 0, 0, 0, 0, 0.25, 0, 0.25, 0, 0]\n",
      "Current_Note --> Next_Note\n",
      "F-->G\n",
      "\n",
      "['E', 'F', 'G', 'Cs', 'Fs', 'Ds', 'Gs', 'D', 'B', 'C', 'A', 'As']\n",
      "[0, 0.3333333333333333, 0, 0.3333333333333333, 0, 0, 0, 0.3333333333333333, 0, 0, 0, 0]\n",
      "Current_Note --> Next_Note\n",
      "G-->Cs\n",
      "\n",
      "['E', 'F', 'G', 'Cs', 'Fs', 'Ds', 'Gs', 'D', 'B', 'C', 'A', 'As']\n",
      "[0, 0, 0.3333333333333333, 0, 0.3333333333333333, 0.3333333333333333, 0, 0, 0, 0, 0, 0]\n",
      "Current_Note --> Next_Note\n",
      "Cs-->Ds\n",
      "\n",
      "['E', 'F', 'G', 'Cs', 'Fs', 'Ds', 'Gs', 'D', 'B', 'C', 'A', 'As']\n",
      "[0.25, 0, 0, 0.25, 0.25, 0, 0.25, 0, 0, 0, 0, 0]\n",
      "Current_Note --> Next_Note\n",
      "Ds-->Cs\n",
      "\n",
      "['E', 'Ds', 'E', 'F', 'E', 'F', 'E', 'F', 'G', 'Cs', 'Ds', 'Cs']\n"
     ]
    }
   ],
   "source": [
    "generated_sequence = Markov_Chain(trasition_matrix)\n",
    "# generated_sequence = Markov_Chain(transition_matrix)\n",
    "\n",
    "# print(\"For The Following Markov Chain Of The Trasition Matrix : \\n\")\n",
    "Markov_Chain_1=  Markov_Chain(trasition_matrix)\n",
    "print(Markov_Chain_1)\n",
    "# # for i in range (len(Markov_Chain_1)):\"\n",
    "# #     print(len(B))\n"
   ]
  },
  {
   "cell_type": "code",
   "execution_count": null,
   "id": "3c9baf82",
   "metadata": {},
   "outputs": [],
   "source": []
  },
  {
   "cell_type": "code",
   "execution_count": 6,
   "id": "fbeedaec",
   "metadata": {},
   "outputs": [],
   "source": [
    "Notes={\n",
    "    0:\"E\",\n",
    "    1:\"Ds\",\n",
    "    2:\"Cs\",\n",
    "    3:\"G\",\n",
    "    4:\"D\",\n",
    "    5:\"F\",\n",
    "    6:\"C\",\n",
    "    7:\"Fs\",\n",
    "    8:\"A\",\n",
    "    9:\"Gs\",\n",
    "    10:\"B\",\n",
    "    11:\"As\",\n",
    "}\n",
    "B1 = []\n",
    "N = list(Notes.values())"
   ]
  },
  {
   "cell_type": "code",
   "execution_count": 7,
   "id": "272b2eae",
   "metadata": {},
   "outputs": [
    {
     "name": "stdout",
     "output_type": "stream",
     "text": [
      "The Trasition Matrix Is:\n",
      " \n",
      "['E', 'F', 'G', 'Cs', 'Fs', 'Ds', 'Gs', 'D', 'B', 'C', 'A', 'As']\n",
      "E [0, 0.5, 0, 0, 0, 0.5, 0, 0, 0, 0, 0, 0]\n",
      "Ds [0.25, 0, 0, 0.25, 0.25, 0, 0.25, 0, 0, 0, 0, 0]\n",
      "E [0, 0.5, 0, 0, 0, 0.5, 0, 0, 0, 0, 0, 0]\n",
      "F [0.25, 0, 0.25, 0, 0, 0, 0, 0.25, 0, 0.25, 0, 0]\n",
      "E [0, 0.5, 0, 0, 0, 0.5, 0, 0, 0, 0, 0, 0]\n",
      "F [0.25, 0, 0.25, 0, 0, 0, 0, 0.25, 0, 0.25, 0, 0]\n",
      "E [0, 0.5, 0, 0, 0, 0.5, 0, 0, 0, 0, 0, 0]\n",
      "F [0.25, 0, 0.25, 0, 0, 0, 0, 0.25, 0, 0.25, 0, 0]\n",
      "G [0, 0.3333333333333333, 0, 0.3333333333333333, 0, 0, 0, 0.3333333333333333, 0, 0, 0, 0]\n",
      "Cs [0, 0, 0.3333333333333333, 0, 0.3333333333333333, 0.3333333333333333, 0, 0, 0, 0, 0, 0]\n",
      "Ds [0.25, 0, 0, 0.25, 0.25, 0, 0.25, 0, 0, 0, 0, 0]\n",
      "Cs [0, 0, 0.3333333333333333, 0, 0.3333333333333333, 0.3333333333333333, 0, 0, 0, 0, 0, 0]\n"
     ]
    }
   ],
   "source": [
    "values_1 =list(trasition_matrix.keys())\n",
    "\n",
    "\n",
    "for i in values_1:\n",
    "    values_2 =list( trasition_matrix[i].keys())\n",
    "\n",
    "print(\"The Trasition Matrix Is:\\n \")    \n",
    "# print(values_2)\n",
    "print(f\"{values_2}\")\n",
    "\n",
    "a = []\n",
    "for i , values_2 in enumerate (Markov_Chain_1):\n",
    "    a.append(list(trasition_matrix[values_2].values()))\n",
    "    \n",
    "\n",
    "    print(Markov_Chain_1[i],a[i])"
   ]
  },
  {
   "cell_type": "code",
   "execution_count": 8,
   "id": "1c8fdaad",
   "metadata": {},
   "outputs": [],
   "source": [
    "from qiskit import *\n",
    "from qiskit.primitives import *\n",
    "from qiskit.visualization import plot_distribution, plot_histogram\n",
    "n = 3\n",
    "n1 = 2\n",
    "qr = QuantumRegister(n,\"input_qubit\")\n",
    "qr1 =QuantumRegister(n1,\"dice_operators\")\n",
    "cr = ClassicalRegister(n,\"classic_operator\")\n",
    "circuit = QuantumCircuit(qr,qr1,cr)\n",
    "#First State Of The Walker \n",
    "def walker(qc):\n",
    "    for i in range(3):\n",
    "        qc.id(i)\n",
    "    qc.h(qr1[0:2])\n",
    "    qc.barrier()\n",
    "    qc.cx(qr1[1],qr[0])\n",
    "    for i in range(3):\n",
    "        if i % 2 == 0:\n",
    "            qc.x(qr1[0])\n",
    "        elif i % 2 == 1:\n",
    "            qc.x(qr1[1])    \n",
    "        qc.cx(qr1[1],qr[i%3])\n",
    "        qc.ccx(qr1[0],qr1[1],qr[i%3])\n",
    "    qc.barrier()\n",
    "    qc.h(qr1[0:2])\n",
    "    qc.measure(qr,cr)\n",
    "\n",
    "    return qc\n",
    "      \n",
    "# qc.draw(output = 'mpl')"
   ]
  },
  {
   "cell_type": "code",
   "execution_count": 9,
   "id": "461d891c",
   "metadata": {},
   "outputs": [],
   "source": [
    "def Answer(qc):\n",
    "    # Walker = walker()\n",
    "    results = Sampler().run( qc, shots=1024 ). result()\n",
    "\n",
    "    answer = results.quasi_dists[0].binary_probabilities()\n",
    "\n",
    "    return(answer)\n"
   ]
  },
  {
   "cell_type": "code",
   "execution_count": 10,
   "id": "869fd550",
   "metadata": {
    "scrolled": true
   },
   "outputs": [
    {
     "data": {
      "image/png": "[encoded data removed]",
      "text/plain": [
       "<Figure size 1740.16x535.111 with 1 Axes>"
      ]
     },
     "execution_count": 10,
     "metadata": {},
     "output_type": "execute_result"
    }
   ],
   "source": [
    "\n",
    "Walker = walker(circuit)\n",
    "Walker.draw(\"mpl\", style=gate_colours)"
   ]
  },
  {
   "cell_type": "code",
   "execution_count": 11,
   "id": "a36bd77d",
   "metadata": {},
   "outputs": [
    {
     "name": "stdout",
     "output_type": "stream",
     "text": [
      "{'000': 0.2587890625, '001': 0.2373046875, '010': 0.259765625, '100': 0.244140625}\n"
     ]
    },
    {
     "data": {
      "image/png": "[encoded data removed]",
      "text/plain": [
       "<Figure size 640x480 with 1 Axes>"
      ]
     },
     "execution_count": 11,
     "metadata": {},
     "output_type": "execute_result"
    }
   ],
   "source": [
    "\n",
    "#Results Of The First Walker That We Use At The Def For Calculating The Max Answer For The First Time\n",
    "answer = Answer(Walker)\n",
    "print(answer)\n",
    "plot_histogram(answer, color='maroon', title='Quantum Walk Algorithm')\n",
    "\n",
    "\n"
   ]
  },
  {
   "cell_type": "markdown",
   "id": "ca54f67a",
   "metadata": {},
   "source": [
    "##### "
   ]
  },
  {
   "cell_type": "code",
   "execution_count": 12,
   "id": "debc2723",
   "metadata": {},
   "outputs": [],
   "source": [
    "def Next_state(answer):  \n",
    "    \n",
    "    dict_keys = list(answer.keys())\n",
    "    dict_vals = list(answer.values())\n",
    "\n",
    "    max_state = dict_keys[dict_vals.index(max(dict_vals))]\n",
    "    \n",
    "\n",
    "    return (max_state)\n",
    "\n"
   ]
  },
  {
   "cell_type": "code",
   "execution_count": 13,
   "id": "523466ad",
   "metadata": {},
   "outputs": [
    {
     "name": "stdout",
     "output_type": "stream",
     "text": [
      "The real next state is: 010\n",
      "The next state for the circuit is: 010\n"
     ]
    }
   ],
   "source": [
    "next_state = Next_state(answer)\n",
    "print(f\"The real next state is: {next_state}\")\n",
    "\n",
    "Next_State = next_state[::-1]\n",
    "print(f\"The next state for the circuit is: {Next_State}\")\n"
   ]
  },
  {
   "cell_type": "code",
   "execution_count": 14,
   "id": "69cec90b",
   "metadata": {},
   "outputs": [],
   "source": [
    "n = 3\n",
    "n1 = 2\n",
    "qr = QuantumRegister(n,\"input_qubit\")\n",
    "qr1 =QuantumRegister(n1,\"dice_operators\")\n",
    "cr = ClassicalRegister(n,\"classic_operator\")\n",
    "\n",
    "#Creating New Circuit For The NExt State Of The Walker\n",
    "second_circuit = QuantumCircuit(qr,qr1,cr)\n",
    "\n",
    "def move(qc1 ,state):\n",
    "    for i , j in enumerate (state) :\n",
    "        if j == '1':\n",
    "            qc1.x(qr[i]) \n",
    "    return qc1\n",
    "\n"
   ]
  },
  {
   "cell_type": "code",
   "execution_count": 15,
   "id": "691a7018",
   "metadata": {},
   "outputs": [
    {
     "data": {
      "image/png": "[encoded data removed]",
      "text/plain": [
       "<Figure size 1823.77x535.111 with 1 Axes>"
      ]
     },
     "execution_count": 15,
     "metadata": {},
     "output_type": "execute_result"
    }
   ],
   "source": [
    "#Loading The New Circuit With The Bit String Of The Max Next State\n",
    "caution = move(second_circuit,Next_State)\n",
    "Next_Walk = walker(caution)\n",
    "\n",
    "Next_Walk.draw(\"mpl\")\n"
   ]
  },
  {
   "cell_type": "code",
   "execution_count": 16,
   "id": "b424ed70",
   "metadata": {},
   "outputs": [],
   "source": [
    "def sound_of_the_next_state(Next_state ,Markov_Chain_1):\n",
    "    note = []\n",
    "    current_state= 0\n",
    "    \n",
    "    for i  in range ((len(Next_state))):\n",
    "        if Next_state[i] == '1':\n",
    "            current_state -= 1\n",
    "        elif Next_state[i] == '0':\n",
    "            current_state += 1\n",
    "            \n",
    "        next_note = Markov_Chain_1[current_state]\n",
    "        \n",
    "        note.append(next_note)\n",
    "\n",
    "\n",
    "    return note\n"
   ]
  },
  {
   "cell_type": "code",
   "execution_count": 17,
   "id": "63d88807",
   "metadata": {},
   "outputs": [
    {
     "name": "stdout",
     "output_type": "stream",
     "text": [
      "['Ds', 'E', 'Ds']\n",
      "010\n"
     ]
    }
   ],
   "source": [
    "sound = sound_of_the_next_state(Next_State ,Markov_Chain_1)\n",
    "print(sound)\n",
    "print(Next_State)\n"
   ]
  },
  {
   "cell_type": "code",
   "execution_count": null,
   "id": "07944742",
   "metadata": {},
   "outputs": [],
   "source": []
  },
  {
   "cell_type": "code",
   "execution_count": null,
   "id": "1b5428e8",
   "metadata": {},
   "outputs": [],
   "source": []
  },
  {
   "cell_type": "code",
   "execution_count": 18,
   "id": "a54c46ce",
   "metadata": {},
   "outputs": [
    {
     "name": "stdout",
     "output_type": "stream",
     "text": [
      "011 \t 000 \t ['Ds', 'E', 'Cs'] \t ['2dn', '2n', '4dn']\n",
      "010 \t 010 \t ['Ds', 'E', 'Ds'] \t ['2dn', '1n', '2dn']\n",
      "010 \t 010 \t ['Ds', 'E', 'Ds'] \t ['2dn', '1n', '2dn']\n",
      "011 \t 000 \t ['Ds', 'E', 'Cs'] \t ['2dn', '2n', '4dn']\n",
      "110 \t 010 \t ['Cs', 'Ds', 'Cs'] \t ['2dn', '1n', '2dn']\n",
      "111 \t 010 \t ['Cs', 'Ds', 'Cs'] \t ['2dn', '1n', '2dn']\n",
      "110 \t 010 \t ['Cs', 'Ds', 'Cs'] \t ['2dn', '1n', '2dn']\n",
      "011 \t 011 \t ['Ds', 'E', 'Cs'] \t ['2dn', '1n', '16n']\n",
      "010 \t 111 \t ['Ds', 'E', 'Ds'] \t ['16n', '8n', '8dn']\n",
      "110 \t 110 \t ['Cs', 'Ds', 'Cs'] \t ['16n', '8n', '16n']\n",
      "011 \t 001 \t ['Ds', 'E', 'Cs'] \t ['2dn', '2n', '2dn']\n",
      "100 \t 000 \t ['Cs', 'E', 'Ds'] \t ['2dn', '2n', '4dn']\n",
      "001 \t 010 \t ['Ds', 'E', 'Ds'] \t ['2dn', '1n', '2dn']\n",
      "100 \t 010 \t ['Cs', 'E', 'Ds'] \t ['2dn', '1n', '2dn']\n",
      "001 \t 110 \t ['Ds', 'E', 'Ds'] \t ['16n', '8n', '16n']\n",
      "000 \t 010 \t ['Ds', 'E', 'F'] \t ['2dn', '1n', '2dn']\n",
      "000 \t 010 \t ['Ds', 'E', 'F'] \t ['2dn', '1n', '2dn']\n",
      "100 \t 000 \t ['Cs', 'E', 'Ds'] \t ['2dn', '2n', '4dn']\n",
      "001 \t 000 \t ['Ds', 'E', 'Ds'] \t ['2dn', '2n', '4dn']\n",
      "100 \t 100 \t ['Cs', 'E', 'Ds'] \t ['16n', '1n', '2dn']\n",
      "001 \t 101 \t ['Ds', 'E', 'Ds'] \t ['16n', '1n', '16n']\n",
      "101 \t 001 \t ['Cs', 'E', 'Cs'] \t ['2dn', '2n', '2dn']\n",
      "100 \t 000 \t ['Cs', 'E', 'Ds'] \t ['2dn', '2n', '4dn']\n",
      "011 \t 000 \t ['Ds', 'E', 'Cs'] \t ['2dn', '2n', '4dn']\n",
      "110 \t 000 \t ['Cs', 'Ds', 'Cs'] \t ['2dn', '2n', '4dn']\n",
      "010 \t 100 \t ['Ds', 'E', 'Ds'] \t ['16n', '1n', '2dn']\n",
      "000 \t 001 \t ['Ds', 'E', 'F'] \t ['2dn', '2n', '2dn']\n",
      "001 \t 100 \t ['Ds', 'E', 'Ds'] \t ['16n', '1n', '2dn']\n",
      "110 \t 011 \t ['Cs', 'Ds', 'Cs'] \t ['2dn', '1n', '16n']\n",
      "111 \t 100 \t ['Cs', 'Ds', 'Cs'] \t ['16n', '1n', '2dn']\n"
     ]
    }
   ],
   "source": [
    "\n",
    "pitch = Next_State\n",
    "\n",
    "Rhythm = Next_State\n",
    "\n",
    "next_pitch = []\n",
    "next_rhythm =[]\n",
    "\n",
    "Sound_P = []\n",
    "Rhythms = []\n",
    "for i in range (30):\n",
    "    \n",
    "    n = 3\n",
    "    n1 = 2\n",
    "    qr = QuantumRegister(n,\"input_qubit\")\n",
    "    qr1 =QuantumRegister(n1,\"dice_operators\")\n",
    "    cr = ClassicalRegister(n,\"classic_operator\")\n",
    "\n",
    "    \n",
    "    third_circuit = QuantumCircuit(qr,qr1,cr)\n",
    "    \n",
    "    n= move(third_circuit,pitch)\n",
    "    \n",
    "    third_circuit = walker(third_circuit)\n",
    "    \n",
    "    answers = Answer(third_circuit)\n",
    "\n",
    "    pitch = Next_state(answers)\n",
    "    sound_of_pitch  = sound_of_the_next_state(pitch , Markov_Chain_1)\n",
    "    Sound_P.append(sound_of_pitch)\n",
    "    \n",
    "    next_pitch.append(pitch)\n",
    "    \n",
    "    \n",
    "#############################################################################################################################\n",
    "                                #RHYTHM\n",
    "    rhythm = ['1n', '2dn', '2n', '4dn', '4n', '8dn', '8n', '16n']\n",
    "\n",
    "    fouth_circuit=QuantumCircuit(qr,qr1,cr)\n",
    "    \n",
    "    n = move(fouth_circuit,Rhythm)\n",
    "    \n",
    "    fouth_circuit = walker(fouth_circuit)\n",
    "    \n",
    "    answers = Answer(fouth_circuit)\n",
    "    \n",
    "    Rhythm = Next_state(answers)\n",
    "    \n",
    "    Rhythm_Of_Melodies =sound_of_the_next_state (Rhythm,rhythm)\n",
    "    \n",
    "    Rhythms.append(Rhythm_Of_Melodies)\n",
    "    next_rhythm.append(Rhythm)\n",
    "\n",
    "\n",
    "new_sound = [] \n",
    "new_rhythm =[]\n",
    "for i in range(30):\n",
    "    print(next_pitch[i],'\\t',next_rhythm[i],'\\t',Sound_P[i],'\\t',Rhythms[i]) \n",
    "\n",
    "    if Sound_P[i] != Sound_P[(i +1) % (len(Sound_P) -1)] and Sound_P[i] not in new_sound :\n",
    "        new_sound.append(Sound_P[i])\n",
    "        \n",
    "    if Rhythms[i] != Rhythms[(i +1) % (len(Rhythms) -1)] and Rhythms[i] not in new_rhythm :\n",
    "        new_rhythm.append(Rhythms[i])\n",
    "    \n",
    "    \n",
    "    "
   ]
  },
  {
   "cell_type": "code",
   "execution_count": 19,
   "id": "4dea840d",
   "metadata": {},
   "outputs": [
    {
     "name": "stdout",
     "output_type": "stream",
     "text": [
      "['Cs', 'Ds', 'Cs']\n"
     ]
    }
   ],
   "source": [
    "def last_played_note (Sound_P):\n",
    "    for i  in range(29):\n",
    "         return(Sound_P[29])\n",
    "\n",
    "            \n",
    "last_note= last_played_note(Sound_P)\n",
    "print(last_note)\n",
    "\n",
    "def last_played_rhythm(Rhythms):\n",
    "    for i  in range(29):\n",
    "         return(Rhythms[29])\n",
    "    \n",
    "last_rhythm = last_played_rhythm(Rhythms)\n",
    "\n",
    "client = udp_client.SimpleUDPClient(address, 4560)\n",
    "client.send_message(\"/play\",last_note)\n",
    "\n",
    "client.send_message(\"/rhythm\",last_rhythm)\n",
    "\n"
   ]
  },
  {
   "cell_type": "code",
   "execution_count": 20,
   "id": "61356bb1",
   "metadata": {},
   "outputs": [
    {
     "name": "stdout",
     "output_type": "stream",
     "text": [
      "['16n', '1n', '2dn']\n"
     ]
    }
   ],
   "source": [
    "def last_played_rhythm(Rhythms):\n",
    "    for i  in range(29):\n",
    "         return(Rhythms[29])\n",
    "    \n",
    "last_rhythm = last_played_rhythm(Rhythms)\n",
    "print((last_rhythm))"
   ]
  },
  {
   "cell_type": "code",
   "execution_count": null,
   "id": "a84f5764",
   "metadata": {},
   "outputs": [],
   "source": [
    "\n"
   ]
  },
  {
   "cell_type": "code",
   "execution_count": null,
   "id": "7521efb6",
   "metadata": {},
   "outputs": [],
   "source": []
  },
  {
   "cell_type": "code",
   "execution_count": 21,
   "id": "61413992",
   "metadata": {},
   "outputs": [
    {
     "name": "stdout",
     "output_type": "stream",
     "text": [
      "Cs\n"
     ]
    }
   ],
   "source": [
    "Final_Note = (last_note[2])\n",
    "print(Final_Note)"
   ]
  },
  {
   "cell_type": "code",
   "execution_count": null,
   "id": "ff32de97",
   "metadata": {},
   "outputs": [],
   "source": [
    "\n"
   ]
  },
  {
   "cell_type": "code",
   "execution_count": 22,
   "id": "b44fa8eb",
   "metadata": {},
   "outputs": [
    {
     "name": "stdout",
     "output_type": "stream",
     "text": [
      "[0, 0, 1, 0, 1, 1, 0, 0, 0, 0, 0, 0]\n"
     ]
    }
   ],
   "source": [
    "# print(Last_Note)\n",
    "def Finaly_Note(Note):\n",
    "    Last_Note = list(trasition_matrix[Note].values())\n",
    "\n",
    "    notes = []\n",
    "    m = 0\n",
    "    for i in range(len(Last_Note)):\n",
    "        if Last_Note[i] != 0:\n",
    "            Last_Note[i] = 1\n",
    "            m+=1\n",
    "        elif Last_Note[i] == 0:\n",
    "            Last_Note[i] ==0\n",
    "        notes.append(Last_Note[i])\n",
    "    return(notes)\n",
    "\n",
    "Notes =Finaly_Note(Final_Note)\n",
    "print(Notes)"
   ]
  },
  {
   "cell_type": "code",
   "execution_count": 23,
   "id": "a2440dc9",
   "metadata": {},
   "outputs": [
    {
     "name": "stdout",
     "output_type": "stream",
     "text": [
      "States: ['0010', '0100', '0101']\n",
      "Reversed_States: ['0100', '0010', '1010']\n",
      "0100\n"
     ]
    }
   ],
   "source": [
    "d = {\n",
    "    0:'0000',\n",
    "    1:'0001',\n",
    "    2:'0010',\n",
    "    3:'0011',\n",
    "    4:'0100',\n",
    "    5:'0101',\n",
    "    6:'0110',\n",
    "    7:'0111',\n",
    "    8:'1000',\n",
    "    9:'1001',\n",
    "    10:'1010',\n",
    "    11:'1011',\n",
    "    12:'1100',\n",
    "    13:'1101',\n",
    "    14:'1110',\n",
    "    15:'1111',\n",
    "    }\n",
    "d1 = {\n",
    "    '0000':0,\n",
    "    '0001':1,\n",
    "    '0010':2,\n",
    "    '0011':3,\n",
    "    '0100':4,\n",
    "    '0101':5,\n",
    "    '0110':6,\n",
    "    '0111':7,\n",
    "    '1000':8,\n",
    "    '1001':9,\n",
    "    '1010':10,\n",
    "    '1011':11,\n",
    "    '1100':12,\n",
    "    '1101':13,\n",
    "    '1110':14,\n",
    "    '1111':15,\n",
    "    }\n",
    "def Upsidown_Notes(List):\n",
    "    import random\n",
    "    states = []\n",
    "    reversed_states = []\n",
    "    for i , j in enumerate (List):\n",
    "        if j == 1:\n",
    "            All_States = d[i]\n",
    "            states.append(All_States)\n",
    "    for i  in  states:\n",
    "        reversed_states.append(i[::-1])\n",
    "        r_states = random.choice(reversed_states)\n",
    "    print(f\"States: {states}\")\n",
    "    print(f\"Reversed_States: {reversed_states}\")\n",
    "    \n",
    "    return r_states\n",
    "State =Upsidown_Notes(Notes)\n",
    "# print(r_states)\n",
    "print(State)\n",
    "    "
   ]
  },
  {
   "cell_type": "code",
   "execution_count": 24,
   "id": "a400f51d",
   "metadata": {},
   "outputs": [
    {
     "data": {
      "image/png": "[encoded data removed]",
      "text/plain": [
       "<Figure size 569.605x535.111 with 1 Axes>"
      ]
     },
     "execution_count": 24,
     "metadata": {},
     "output_type": "execute_result"
    }
   ],
   "source": [
    "from qiskit.quantum_info import Operator\n",
    "from qiskit.visualization import array_to_latex\n",
    "import qiskit.circuit.library\n",
    "\n",
    "n = 5\n",
    "qr = QuantumRegister(n,\"input_qubit\")\n",
    "cr = ClassicalRegister(4,\"classic_operator\")\n",
    "\n",
    "ORACLE = QuantumCircuit(qr , cr)\n",
    "\n",
    "\n",
    "def Oracle(q,State):\n",
    "\n",
    "    for i , j  in enumerate(State):\n",
    "        if j == '1':\n",
    "            q.id(qr[i])\n",
    "        elif j == '0':\n",
    "            q.x(qr[i])\n",
    "\n",
    "    mcx_gate = MCXGate(num_ctrl_qubits=4)\n",
    "\n",
    "    q.mcx([qr[0],qr[1] ,qr[2],qr[3]],qr[4])\n",
    "    \n",
    "    for i , j  in enumerate(State):\n",
    "        if j == '1':\n",
    "            q.id(qr[i])\n",
    "        elif j == '0':\n",
    "            q.x(qr[i])\n",
    "    return q\n",
    "\n",
    "o = Oracle(ORACLE,State)\n",
    "oracle_operator = Operator(o)\n",
    "\n",
    "Unitary_matrix = oracle_operator.data\n",
    "array_to_latex(Unitary_matrix, prefix=\"\\\\text{Oracle Unitary Matrix} = \")\n",
    "ORACLE.draw('mpl',style = gate_colours)"
   ]
  },
  {
   "cell_type": "code",
   "execution_count": 25,
   "id": "b019680e",
   "metadata": {},
   "outputs": [],
   "source": [
    "# #Diffuser\n",
    "n = 5\n",
    "qr = QuantumRegister(n,\"input_qubit\")\n",
    "\n",
    "circuit = QuantumCircuit(qr)\n",
    "\n",
    "def diffusser(qc):\n",
    "    for i in range (n - 1):\n",
    "        qc.h(i)\n",
    "        qc.x(i)\n",
    "    mcx_gate = MCXGate(num_ctrl_qubits=4)\n",
    "\n",
    "    qc.mcx([qr[0],qr[1] ,qr[2],qr[3]],qr[4])\n",
    "\n",
    "    for i in range (n):\n",
    "        qc.x(i)\n",
    "    for i in range (n - 1):\n",
    "        qc.h(i)\n",
    "\n",
    "    D =qc.to_gate()\n",
    "    D.name = 'Diffuser'\n",
    "    return D\n",
    "\n",
    "Diffusser = diffusser(circuit)\n",
    "\n"
   ]
  },
  {
   "cell_type": "code",
   "execution_count": 26,
   "id": "46117d41",
   "metadata": {},
   "outputs": [
    {
     "data": {
      "image/png": "[encoded data removed]",
      "text/plain": [
       "<Figure size 2158.22x535.111 with 1 Axes>"
      ]
     },
     "execution_count": 26,
     "metadata": {},
     "output_type": "execute_result"
    }
   ],
   "source": [
    "import numpy as np\n",
    "n1 = 4\n",
    "qr = QuantumRegister(n1,\"input_qubit\")\n",
    "aux1 =QuantumRegister(1,\"auxilary1\")\n",
    "cr = ClassicalRegister(4,\"classic_operator\")\n",
    "qc = QuantumCircuit(qr,cr,aux1)\n",
    "def Grover_Algorithm(qc,Unitary_matrix,Diffusser):\n",
    "    Oracle = np.array(Unitary_matrix, dtype = complex)\n",
    "    per = int ((np.pi /4)*np.sqrt(2**(n - 2)) )\n",
    "#     print(per)\n",
    "    for i in range(n - 1):\n",
    "        qc.h(i)\n",
    "    qc.x(aux1[0])#Grovers Qubit\n",
    "\n",
    "    for i in range(4):\n",
    "        qc.id(i)\n",
    "    qc.h(aux1[0])#Grovers Qubit\n",
    "    qc.barrier()\n",
    "    for k in range((per)): \n",
    "        qc.unitary(Oracle, [0,1,2,3,4],label = 'Oracle')\n",
    "        qc.barrier()\n",
    "        qc.append(Diffusser, [0,1,2,3,4])\n",
    "        qc.barrier()\n",
    "\n",
    "    qc.h(aux1[0])#Grovers Qubit\n",
    "    qc.x(aux1[0])#Grovers Qubit\n",
    "\n",
    "\n",
    "    qc.barrier()\n",
    "\n",
    "    qc.measure(qr,cr)\n",
    "    \n",
    "    return qc\n",
    "\n",
    "Grover = Grover_Algorithm(qc,Unitary_matrix,Diffusser)\n",
    "Grover.draw(\"mpl\",style = gate_colours)\n",
    "\n"
   ]
  },
  {
   "cell_type": "code",
   "execution_count": null,
   "id": "a61113ea",
   "metadata": {},
   "outputs": [],
   "source": []
  },
  {
   "cell_type": "code",
   "execution_count": 27,
   "id": "fc2bf1df",
   "metadata": {},
   "outputs": [],
   "source": [
    "def Grovers_States(circuit):\n",
    "    results = Sampler().run( circuit, shots=1024 ). result()\n",
    "\n",
    "    answer = results.quasi_dists[0].binary_probabilities()\n",
    "    print(answer)\n",
    "    return answer\n"
   ]
  },
  {
   "cell_type": "code",
   "execution_count": 28,
   "id": "a6cabe7c",
   "metadata": {},
   "outputs": [
    {
     "name": "stdout",
     "output_type": "stream",
     "text": [
      "{'0000': 0.0048828125, '0001': 0.00390625, '0010': 0.9169921875, '0011': 0.0068359375, '0100': 0.0068359375, '0101': 0.0029296875, '0110': 0.0048828125, '0111': 0.0048828125, '1000': 0.005859375, '1001': 0.005859375, '1010': 0.0078125, '1011': 0.0087890625, '1100': 0.0048828125, '1101': 0.0029296875, '1110': 0.0068359375, '1111': 0.0048828125}\n"
     ]
    }
   ],
   "source": [
    "All_Grovers_States = Grovers_States(qc)\n",
    "def Next_Grovers_State(all_states):\n",
    "    # print(All_Grovers_States)\n",
    "\n",
    "    Keys = list(All_Grovers_States.keys())\n",
    "    Values = list(list(All_Grovers_States.values()))\n",
    "\n",
    "\n",
    "    next_grover_state = Keys[Values.index(max(Values))]\n",
    "    return next_grover_state\n",
    "\n"
   ]
  },
  {
   "cell_type": "code",
   "execution_count": 29,
   "id": "8c19176a",
   "metadata": {},
   "outputs": [
    {
     "name": "stdout",
     "output_type": "stream",
     "text": [
      "0010\n",
      "2\n",
      "G\n"
     ]
    }
   ],
   "source": [
    "NEXT = Next_Grovers_State(All_Grovers_States)\n",
    "print(NEXT)\n",
    "index_of_grover_state = d1[NEXT]\n",
    "print(index_of_grover_state)\n",
    "\n",
    "Keys_Of_Last_Note = list(trasition_matrix.keys())\n",
    "\n",
    "for i in Keys_Of_Last_Note:\n",
    "    Values_2 =list( trasition_matrix[i].keys())\n",
    "    \n",
    "                   \n",
    "    k = Values_2[index_of_grover_state]\n",
    "\n",
    "print(k)\n",
    "\n",
    "\n",
    "\n"
   ]
  },
  {
   "cell_type": "code",
   "execution_count": 30,
   "id": "1e98ebe4",
   "metadata": {},
   "outputs": [
    {
     "name": "stdout",
     "output_type": "stream",
     "text": [
      "G\n",
      "States: ['0001', '0011', '0111']\n",
      "Reversed_States: ['1000', '1100', '1110']\n",
      "{'0000': 0.0068359375, '0001': 0.0048828125, '0010': 0.00390625, '0011': 0.9150390625, '0100': 0.005859375, '0101': 0.0078125, '0110': 0.00390625, '0111': 0.0048828125, '1000': 0.00390625, '1001': 0.001953125, '1010': 0.005859375, '1011': 0.009765625, '1100': 0.005859375, '1101': 0.0087890625, '1110': 0.0068359375, '1111': 0.00390625}\n",
      "Cs\n",
      "States: ['0010', '0100', '0101']\n",
      "Reversed_States: ['0100', '0010', '1010']\n",
      "{'0000': 0.00390625, '0001': 0.001953125, '0010': 0.005859375, '0011': 0.0048828125, '0100': 0.9033203125, '0101': 0.005859375, '0110': 0.00390625, '0111': 0.0107421875, '1000': 0.0068359375, '1001': 0.0087890625, '1010': 0.0029296875, '1011': 0.0087890625, '1100': 0.0078125, '1101': 0.0068359375, '1110': 0.005859375, '1111': 0.01171875}\n",
      "Fs\n",
      "States: ['0011', '0101', '1001', '1010']\n",
      "Reversed_States: ['1100', '1010', '1001', '0101']\n",
      "{'0000': 0.0048828125, '0001': 0.00390625, '0010': 0.00390625, '0011': 0.9169921875, '0100': 0.0078125, '0101': 0.0078125, '0110': 0.0068359375, '0111': 0.00390625, '1000': 0.0068359375, '1001': 0.0029296875, '1010': 0.005859375, '1011': 0.005859375, '1100': 0.00390625, '1101': 0.005859375, '1110': 0.009765625, '1111': 0.0029296875}\n",
      "Cs\n",
      "States: ['0010', '0100', '0101']\n",
      "Reversed_States: ['0100', '0010', '1010']\n",
      "{'0000': 0.00390625, '0001': 0.01171875, '0010': 0.005859375, '0011': 0.0087890625, '0100': 0.0048828125, '0101': 0.900390625, '0110': 0.0087890625, '0111': 0.0048828125, '1000': 0.00390625, '1001': 0.0048828125, '1010': 0.0029296875, '1011': 0.0068359375, '1100': 0.0029296875, '1101': 0.01171875, '1110': 0.0087890625, '1111': 0.0087890625}\n",
      "Ds\n",
      "States: ['0000', '0011', '0100', '0110']\n",
      "Reversed_States: ['0000', '1100', '0010', '0110']\n",
      "{'0000': 0.9033203125, '0001': 0.0048828125, '0010': 0.005859375, '0011': 0.0087890625, '0100': 0.0029296875, '0101': 0.0078125, '0110': 0.005859375, '0111': 0.005859375, '1000': 0.0078125, '1001': 0.00390625, '1010': 0.005859375, '1011': 0.0107421875, '1100': 0.005859375, '1101': 0.0068359375, '1110': 0.0068359375, '1111': 0.0068359375}\n",
      "E\n",
      "States: ['0001', '0101']\n",
      "Reversed_States: ['1000', '1010']\n",
      "{'0000': 0.0048828125, '0001': 0.8994140625, '0010': 0.005859375, '0011': 0.001953125, '0100': 0.01171875, '0101': 0.0078125, '0110': 0.0068359375, '0111': 0.005859375, '1000': 0.0078125, '1001': 0.0068359375, '1010': 0.0048828125, '1011': 0.001953125, '1100': 0.0087890625, '1101': 0.0068359375, '1110': 0.009765625, '1111': 0.0087890625}\n",
      "F\n",
      "States: ['0000', '0010', '0111', '1001']\n",
      "Reversed_States: ['0000', '0100', '1110', '1001']\n",
      "{'0000': 0.005859375, '0001': 0.0048828125, '0010': 0.0078125, '0011': 0.01171875, '0100': 0.0087890625, '0101': 0.005859375, '0110': 0.005859375, '0111': 0.0048828125, '1000': 0.0078125, '1001': 0.8994140625, '1010': 0.0068359375, '1011': 0.005859375, '1100': 0.005859375, '1101': 0.0078125, '1110': 0.0048828125, '1111': 0.005859375}\n",
      "C\n",
      "States: ['0001', '0100', '1000', '1010']\n",
      "Reversed_States: ['1000', '0010', '0001', '0101']\n",
      "{'0000': 0.0009765625, '0001': 0.9111328125, '0010': 0.0087890625, '0011': 0.0078125, '0100': 0.0068359375, '0101': 0.001953125, '0110': 0.0048828125, '0111': 0.0048828125, '1000': 0.0048828125, '1001': 0.0048828125, '1010': 0.0048828125, '1011': 0.0078125, '1100': 0.001953125, '1101': 0.01171875, '1110': 0.0078125, '1111': 0.0087890625}\n",
      "F\n",
      "States: ['0000', '0010', '0111', '1001']\n",
      "Reversed_States: ['0000', '0100', '1110', '1001']\n",
      "{'0000': 0.0078125, '0001': 0.0087890625, '0010': 0.00390625, '0011': 0.00390625, '0100': 0.0048828125, '0101': 0.005859375, '0110': 0.0048828125, '0111': 0.0087890625, '1000': 0.0009765625, '1001': 0.9150390625, '1010': 0.0078125, '1011': 0.00390625, '1100': 0.0068359375, '1101': 0.0048828125, '1110': 0.0048828125, '1111': 0.0068359375}\n",
      "C\n",
      "States: ['0001', '0100', '1000', '1010']\n",
      "Reversed_States: ['1000', '0010', '0001', '0101']\n",
      "{'0000': 0.0048828125, '0001': 0.0048828125, '0010': 0.0009765625, '0011': 0.005859375, '0100': 0.91796875, '0101': 0.0068359375, '0110': 0.0048828125, '0111': 0.0107421875, '1000': 0.00390625, '1001': 0.005859375, '1010': 0.00390625, '1011': 0.0048828125, '1100': 0.005859375, '1101': 0.0068359375, '1110': 0.0048828125, '1111': 0.0068359375}\n",
      "Fs\n",
      "States: ['0011', '0101', '1001', '1010']\n",
      "Reversed_States: ['1100', '1010', '1001', '0101']\n",
      "{'0000': 0.001953125, '0001': 0.0048828125, '0010': 0.0048828125, '0011': 0.9033203125, '0100': 0.0068359375, '0101': 0.0048828125, '0110': 0.005859375, '0111': 0.005859375, '1000': 0.00390625, '1001': 0.00390625, '1010': 0.00390625, '1011': 0.0107421875, '1100': 0.0107421875, '1101': 0.0068359375, '1110': 0.0146484375, '1111': 0.0068359375}\n",
      "Cs\n",
      "States: ['0010', '0100', '0101']\n",
      "Reversed_States: ['0100', '0010', '1010']\n",
      "{'0000': 0.0126953125, '0001': 0.0087890625, '0010': 0.0087890625, '0011': 0.0087890625, '0100': 0.8955078125, '0101': 0.001953125, '0110': 0.0087890625, '0111': 0.00390625, '1000': 0.00390625, '1001': 0.005859375, '1010': 0.00390625, '1011': 0.0068359375, '1100': 0.0087890625, '1101': 0.005859375, '1110': 0.0068359375, '1111': 0.0087890625}\n",
      "['Cs', 'Fs', 'Ds', 'E', 'F', 'C']\n"
     ]
    }
   ],
   "source": [
    "List = []\n",
    "N2 = 0\n",
    "while N2 < 12 :\n",
    "    \n",
    "    print(k)\n",
    "    Note = Finaly_Note(k)\n",
    "    # print(Note)\n",
    "    Upside = Upsidown_Notes(Note)\n",
    "    # print(Upside)\n",
    "\n",
    "    # Oracle\n",
    "    n = 5\n",
    "    qr = QuantumRegister(n,\"input_qubit\")\n",
    "    cr = ClassicalRegister(4,\"classic_operator\")\n",
    "\n",
    "    ORACLE_1 = QuantumCircuit(qr , cr)\n",
    "\n",
    "    oracle_1 =  Oracle(ORACLE_1,Upside)\n",
    "    oracle_operator = Operator(oracle_1)\n",
    "    # # Get the unitary matrix of the oracle\n",
    "    Unitary_matrix = oracle_operator.data\n",
    "    #Diffuser\n",
    "    n = 5\n",
    "    qr = QuantumRegister(n,\"input_qubit\")\n",
    "    circuit_1 = QuantumCircuit(qr)\n",
    "    Diffuser = diffusser(circuit_1)\n",
    "\n",
    "    #Grover\n",
    "    # n = 6\n",
    "    # n1 = 3\n",
    "    qr = QuantumRegister(4,\"input_qubit\")\n",
    "    aux1 =QuantumRegister(1,\"auxilary1\")\n",
    "    cr = ClassicalRegister(4,\"classic_operator\")\n",
    "\n",
    "    Grover_Circuit=QuantumCircuit(qr,cr,aux1)\n",
    "\n",
    "\n",
    "    Grover_1 = Grover_Algorithm(Grover_Circuit,Unitary_matrix,Diffuser)\n",
    "#     Grover_1.draw(\"mpl\",style = gate_colours)\n",
    "\n",
    "    All_Grovers_States  = Grovers_States(Grover_1) \n",
    "    \n",
    "    NEXT1 = Next_Grovers_State(All_Grovers_States)#Εμφανίζει την καλύτερη λύση \n",
    "    index_of_grover_state = d1[NEXT1]\n",
    "    \n",
    "    Keys_Of_Last_Note_1 = list(trasition_matrix.keys())#Την νότα που αντιστοιχεί στην θέση 1\n",
    "\n",
    "    for i in Keys_Of_Last_Note_1:\n",
    "        Values_02 =list( trasition_matrix[i].keys())\n",
    "        \n",
    "                       \n",
    "        k = Values_02[index_of_grover_state]\n",
    "    if k not in List:\n",
    "        List.append(k)\n",
    "\n",
    "    N2+=1\n",
    "\n",
    "print(List)\n",
    "\n",
    "    \n",
    "client = udp_client.SimpleUDPClient(address, 4560)\n",
    "client.send_message(\"/Play_1\",List)\n"
   ]
  },
  {
   "cell_type": "code",
   "execution_count": null,
   "id": "38ea6e20",
   "metadata": {},
   "outputs": [],
   "source": []
  },
  {
   "cell_type": "code",
   "execution_count": null,
   "id": "03824f5e",
   "metadata": {},
   "outputs": [],
   "source": []
  },
  {
   "cell_type": "code",
   "execution_count": null,
   "id": "bb482016",
   "metadata": {},
   "outputs": [],
   "source": []
  },
  {
   "cell_type": "code",
   "execution_count": null,
   "id": "6829d38f",
   "metadata": {},
   "outputs": [],
   "source": []
  },
  {
   "cell_type": "code",
   "execution_count": null,
   "id": "2cc07226",
   "metadata": {},
   "outputs": [],
   "source": []
  },
  {
   "cell_type": "code",
   "execution_count": null,
   "id": "db2a1614",
   "metadata": {},
   "outputs": [],
   "source": []
  },
  {
   "cell_type": "code",
   "execution_count": 32,
   "id": "0e1a7bdb",
   "metadata": {},
   "outputs": [],
   "source": [
    "from qiskit import *\n",
    "bit_string = (('1011011'))\n",
    "secret_message = bit_string[::-1]\n",
    "def bernstein_vazirani(message):\n",
    "    n1 = len(message)\n",
    "    qr_1 = QuantumRegister(n1 + 1,'qubit')\n",
    "    cr = ClassicalRegister(n1,'bit')\n",
    "\n",
    "    circuit = QuantumCircuit(qr_1,cr)\n",
    "    \n",
    "    for i in range((n1)):\n",
    "        circuit.id(i)\n",
    "    circuit.x(n1)\n",
    "    \n",
    "    for i in range((n1)):\n",
    "        circuit.h(i)\n",
    "    circuit.h(n1)\n",
    "\n",
    "    circuit.barrier()\n",
    "    \n",
    "    for k , j in enumerate(message):\n",
    "        if j =='1':\n",
    "            circuit.cx(k, n1)\n",
    "    circuit.barrier()\n",
    "\n",
    "    for i in range(n1):\n",
    "        circuit.h(i)\n",
    "    circuit.barrier()\n",
    "    circuit.measure(range(n1),range(n1))\n",
    "\n",
    "    return circuit\n",
    "    "
   ]
  },
  {
   "cell_type": "code",
   "execution_count": 33,
   "id": "8037727e",
   "metadata": {},
   "outputs": [
    {
     "name": "stdout",
     "output_type": "stream",
     "text": [
      "{'1011011': 1.0}\n",
      "['1011011']\n"
     ]
    }
   ],
   "source": [
    "Bernstein_Vazirani=bernstein_vazirani(secret_message)\n",
    "results = Sampler().run(Bernstein_Vazirani, shots=1024 ). result()\n",
    "\n",
    "data = results.quasi_dists[0].binary_probabilities()\n",
    "print(data)\n",
    "answer = data.keys()\n",
    "Data = list(answer)\n",
    "print(Data)"
   ]
  },
  {
   "cell_type": "code",
   "execution_count": 34,
   "id": "5dbdc831",
   "metadata": {},
   "outputs": [
    {
     "name": "stdout",
     "output_type": "stream",
     "text": [
      "['1', '0', '1', '1', '0', '1', '1']\n"
     ]
    }
   ],
   "source": [
    "List = []\n",
    "\n",
    "\n",
    "client = udp_client.SimpleUDPClient(address, 4560)\n",
    "for i , j in enumerate(Data):\n",
    "    for k , l in enumerate(j) :\n",
    "        List.append(l)\n",
    "print(List)\n",
    "client.send_message(\"/play_again\",List)\n",
    "        \n",
    "\n",
    "        \n",
    "    \n",
    "  "
   ]
  },
  {
   "cell_type": "code",
   "execution_count": null,
   "id": "0d771b64",
   "metadata": {},
   "outputs": [],
   "source": []
  },
  {
   "cell_type": "code",
   "execution_count": null,
   "id": "3896c37f",
   "metadata": {},
   "outputs": [],
   "source": []
  },
  {
   "cell_type": "code",
   "execution_count": null,
   "id": "61624c78",
   "metadata": {},
   "outputs": [],
   "source": []
  },
  {
   "cell_type": "code",
   "execution_count": null,
   "id": "399a7c63",
   "metadata": {},
   "outputs": [],
   "source": []
  },
  {
   "cell_type": "code",
   "execution_count": null,
   "id": "e36ea6d9",
   "metadata": {},
   "outputs": [],
   "source": []
  },
  {
   "cell_type": "code",
   "execution_count": null,
   "id": "83469198",
   "metadata": {},
   "outputs": [],
   "source": []
  },
  {
   "cell_type": "code",
   "execution_count": null,
   "id": "bb465e63",
   "metadata": {},
   "outputs": [],
   "source": []
  }
 ],
 "metadata": {
  "kernelspec": {
   "display_name": "Python 3 (ipykernel)",
   "language": "python",
   "name": "python3"
  },
  "language_info": {
   "codemirror_mode": {
    "name": "ipython",
    "version": 3
   },
   "file_extension": ".py",
   "mimetype": "text/x-python",
   "name": "python",
   "nbconvert_exporter": "python",
   "pygments_lexer": "ipython3",
   "version": "3.11.7"
  }
 },
 "nbformat": 4,
 "nbformat_minor": 5
}
